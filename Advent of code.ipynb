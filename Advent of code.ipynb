{
 "cells": [
  {
   "cell_type": "markdown",
   "metadata": {},
   "source": [
    "# advent of code"
   ]
  },
  {
   "cell_type": "markdown",
   "metadata": {},
   "source": [
    "## day 1"
   ]
  },
  {
   "cell_type": "code",
   "execution_count": null,
   "metadata": {
    "scrolled": false
   },
   "outputs": [],
   "source": [
    "reader =open(\"1.txt\")\n",
    "list = reader.read().split()\n",
    "for i in list:\n",
    "    for j in list:\n",
    "        for k in list:\n",
    "            if ((2020 - int(i) - int(j) - int(k)) == 0):\n",
    "                print(int(i)*int(j)*int(k))"
   ]
  },
  {
   "cell_type": "markdown",
   "metadata": {},
   "source": [
    "## day 2"
   ]
  },
  {
   "cell_type": "code",
   "execution_count": null,
   "metadata": {
    "scrolled": true
   },
   "outputs": [],
   "source": [
    "stream=open(\"2.txt\")\n",
    "list = stream.read().split(\"\\n\")\n",
    "list = list[:len(list)-1]\n",
    "teller = 0\n",
    "\n",
    "for i in list:\n",
    "    test = i.split()\n",
    "    range = test[0].split(\"-\")\n",
    "    left = int(range[0])-1\n",
    "    right = int(range[1])-1\n",
    "    letter = test[1][0]\n",
    "    if not(test[2][left] == letter and test[2][right] == letter):\n",
    "        if(test[2][left] == letter or test[2][right] == letter):\n",
    "            teller += 1\n",
    "        \n",
    "print(teller)"
   ]
  },
  {
   "cell_type": "markdown",
   "metadata": {},
   "source": [
    "## day 3"
   ]
  },
  {
   "cell_type": "code",
   "execution_count": 3,
   "metadata": {},
   "outputs": [
    {
     "name": "stdout",
     "output_type": "stream",
     "text": [
      "35\n"
     ]
    }
   ],
   "source": [
    "inp = open(\"3.txt\", \"r\")\n",
    "lijst = inp.read().split()\n",
    "\n",
    "tree = \"#\"\n",
    "treeCounter = 0\n",
    "teller = 0\n",
    "\n",
    "for i in range(2, len(lijst), 2):\n",
    "\n",
    "    teller += 1\n",
    "\n",
    "    if teller >= len(lijst[0]):\n",
    "        teller -= 1\n",
    "        teller = 1 - (len(lijst[0]) - teller)\n",
    "\n",
    "    if lijst[i][teller] == tree:\n",
    "        treeCounter += 1\n",
    "\n",
    "print(treeCounter)"
   ]
  },
  {
   "cell_type": "code",
   "execution_count": 10,
   "metadata": {
    "scrolled": true
   },
   "outputs": [
    {
     "name": "stdout",
     "output_type": "stream",
     "text": [
      "1 77\n",
      "3 280\n",
      "5 74\n",
      "7 78\n",
      "product = 4355551200\n"
     ]
    }
   ],
   "source": [
    "inp = open(\"3.txt\", \"r\")\n",
    "lijst = inp.read().split()\n",
    "\n",
    "tree = \"#\"\n",
    "treeCounter = 0\n",
    "teller = 0\n",
    "mul = 1\n",
    "right = [1,3,5,7]\n",
    "down = 2\n",
    "\n",
    "for j in right:\n",
    "    for i in range(1, len(lijst)):\n",
    "\n",
    "        teller += j\n",
    "\n",
    "        if teller >= len(lijst[0]):\n",
    "            teller -= 1\n",
    "            teller = 1 - (len(lijst[0]) - teller)\n",
    "\n",
    "        if lijst[i][teller] == tree:\n",
    "            treeCounter += 1\n",
    "    print(j, treeCounter)\n",
    "    mul *= treeCounter\n",
    "    teller = 0\n",
    "    treeCounter = 0\n",
    "print(\"product =\", mul * 35)"
   ]
  },
  {
   "cell_type": "markdown",
   "metadata": {},
   "source": [
    "## day 4"
   ]
  },
  {
   "cell_type": "code",
   "execution_count": 2,
   "metadata": {},
   "outputs": [
    {
     "name": "stdout",
     "output_type": "stream",
     "text": [
      "test\n"
     ]
    }
   ],
   "source": [
    "inp = open(\"4.txt\", \"r\")\n",
    "lijst = inp.read()\n",
    "search_key = \"id\"\n",
    "\n",
    "my_dict = {'byr': 0, 'iyr': 0, 'eyr': 0, 'hgt': 0, 'hcl': 0, 'ecl': 0, 'pid': 0, 'cid': 0}\n",
    "\n",
    "\n",
    "res = [val for key, val in my_dict.items() if search_key in key] \n",
    "\n",
    "print(res)\n",
    "\n",
    "for i in range(len(lijst))\n",
    "    if lijst[i:i+3]:\n",
    "        pass\n",
    "\n",
    "\n",
    "\n"
   ]
  }
 ],
 "metadata": {
  "kernelspec": {
   "display_name": "Python 3.7.3 64-bit",
   "language": "python",
   "name": "python37364bit8e956d63a4944edbbd7dd774a9a7043c"
  },
  "language_info": {
   "codemirror_mode": {
    "name": "ipython",
    "version": 3
   },
   "file_extension": ".py",
   "mimetype": "text/x-python",
   "name": "python",
   "nbconvert_exporter": "python",
   "pygments_lexer": "ipython3",
   "version": "3.7.4-final"
  }
 },
 "nbformat": 4,
 "nbformat_minor": 4
}