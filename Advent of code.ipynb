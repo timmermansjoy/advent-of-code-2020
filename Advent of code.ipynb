{
 "cells": [
  {
   "cell_type": "markdown",
   "metadata": {},
   "source": [
    "# advent of code"
   ]
  },
  {
   "cell_type": "markdown",
   "metadata": {},
   "source": [
    "## day 1"
   ]
  },
  {
   "cell_type": "code",
   "execution_count": null,
   "metadata": {},
   "outputs": [],
   "source": [
    "reader =open(\"1.txt\")\n",
    "list = reader.read().split()\n",
    "for i in list:\n",
    "    for j in list:\n",
    "        for k in list:\n",
    "            if ((2020 - int(i) - int(j) - int(k)) == 0):\n",
    "                print(int(i)*int(j)*int(k))"
   ]
  },
  {
   "cell_type": "markdown",
   "metadata": {},
   "source": [
    "## day 2"
   ]
  },
  {
   "cell_type": "code",
   "execution_count": null,
   "metadata": {
    "scrolled": true
   },
   "outputs": [],
   "source": [
    "stream=open(\"2.txt\")\n",
    "list = stream.read().split(\"\\n\")\n",
    "list = list[:len(list)-1]\n",
    "teller = 0\n",
    "\n",
    "for i in list:\n",
    "    test = i.split()\n",
    "    range = test[0].split(\"-\")\n",
    "    left = int(range[0])-1\n",
    "    right = int(range[1])-1\n",
    "    letter = test[1][0]\n",
    "    if not(test[2][left] == letter and test[2][right] == letter):\n",
    "        if(test[2][left] == letter or test[2][right] == letter):\n",
    "            teller += 1\n",
    "        \n",
    "print(teller)"
   ]
  },
  {
   "cell_type": "markdown",
   "metadata": {},
   "source": [
    "## day 3"
   ]
  },
  {
   "cell_type": "code",
   "execution_count": null,
   "metadata": {},
   "outputs": [],
   "source": [
    "inp = open(\"3.txt\", \"r\")\n",
    "lijst = inp.read().split()\n",
    "\n",
    "tree = \"#\"\n",
    "treeCounter = 0\n",
    "teller = 0\n",
    "\n",
    "for i in range(2, len(lijst), 2):\n",
    "\n",
    "    teller += 1\n",
    "\n",
    "    if teller >= len(lijst[0]):\n",
    "        teller -= 1\n",
    "        teller = 1 - (len(lijst[0]) - teller)\n",
    "\n",
    "    if lijst[i][teller] == tree:\n",
    "        treeCounter += 1\n",
    "\n",
    "print(treeCounter)"
   ]
  },
  {
   "cell_type": "code",
   "execution_count": null,
   "metadata": {
    "scrolled": true
   },
   "outputs": [],
   "source": [
    "inp = open(\"3.txt\", \"r\")\n",
    "lijst = inp.read().split()\n",
    "\n",
    "tree = \"#\"\n",
    "treeCounter = 0\n",
    "teller = 0\n",
    "mul = 1\n",
    "right = [1,3,5,7]\n",
    "down = 2\n",
    "\n",
    "for j in right:\n",
    "    for i in range(1, len(lijst)):\n",
    "\n",
    "        teller += j\n",
    "\n",
    "        if teller >= len(lijst[0]):\n",
    "            teller -= 1\n",
    "            teller = 1 - (len(lijst[0]) - teller)\n",
    "\n",
    "        if lijst[i][teller] == tree:\n",
    "            treeCounter += 1\n",
    "    print(j, treeCounter)\n",
    "    mul *= treeCounter\n",
    "    teller = 0\n",
    "    treeCounter = 0\n",
    "print(\"product =\", mul * 35)"
   ]
  },
  {
   "cell_type": "markdown",
   "metadata": {},
   "source": [
    "## day 4"
   ]
  },
  {
   "cell_type": "code",
   "execution_count": 10,
   "metadata": {
    "tags": [
     "outputPrepend"
    ]
   },
   "outputs": [
    {
     "name": "stdout",
     "output_type": "stream",
     "text": [
      "part 1: 219 \n",
      "\n",
      "part 2: 127 \n",
      "\n"
     ]
    }
   ],
   "source": [
    "import re\n",
    "import collections\n",
    "\n",
    "inp = open(\"4.txt\", \"r\")\n",
    "lijst = inp.read()\n",
    "\n",
    "myarray = lijst.split(\"\\n\\n\")\n",
    "\n",
    "my_dict = {'byr': 0, 'iyr': 0, 'eyr': 0, 'hgt': 0, 'hcl': 0, 'ecl': 0, 'pid': 0}\n",
    "\n",
    "count = 0\n",
    "res = []\n",
    "\n",
    "# loop passport per passport\n",
    "for lijst in myarray:\n",
    "    \n",
    "    #set all counters to 0\n",
    "    my_dict = dict.fromkeys(my_dict, 0)\n",
    "    for i in range(len(lijst)-3):\n",
    "        \n",
    "        #add number to the right counter in my_dict\n",
    "        if lijst[i:i+3] in my_dict.keys():\n",
    "            my_dict[lijst[i:i+3]] += 1\n",
    "\n",
    "        # reset one counter reaches 2\n",
    "        if(2 in my_dict.values()):\n",
    "            my_dict = dict.fromkeys(my_dict, 0)\n",
    "            break\n",
    "\n",
    "        # count if all items are in list and reset the counters\n",
    "        if(all(val == 1 for val in my_dict.values())):\n",
    "            my_dict = dict.fromkeys(my_dict, 0)\n",
    "            count += 1\n",
    "print('part 1:',count,'\\n')\n",
    "\n",
    "\n",
    "#Part 2 ----------\n",
    "\n",
    "res = dict()\n",
    "boo = False\n",
    "count = 0\n",
    "for i in myarray:\n",
    "    boo = False\n",
    "    i = i.split()\n",
    "    res = dict(s.split(':',1) for s in i)\n",
    "    if(len(res) == 7 and not 'cid' in res or len(res) == 8):\n",
    "        #print(sorted(res.items()),end=\"\")\n",
    "        if(1920<=int(res['byr'])<=2002):\n",
    "            if(2010<=int(res['iyr'])<=2020):\n",
    "                if(2020<=int(res['eyr'])<=2030):\n",
    "                    if('cm' in res['hgt']):\n",
    "                        if(res['hgt'][0:3].isnumeric() and 150<=int(res['hgt'][0:3])<=193):\n",
    "                            boo = True\n",
    "                    elif('in' in res['hgt']):\n",
    "                        if(59<=int(res['hgt'][0:2])<=76):\n",
    "                            boo = True\n",
    "                    if(boo):\n",
    "                        if(re.search(r'^#([a-fA-F0-9]{6})$', res['hcl'])):\n",
    "                            if(res['ecl'] in [\"amb\", \"blu\", \"brn\", \"gry\", \"grn\", \"hzl\", \"oth\"]):\n",
    "                                if(re.search(r'^([0-9]{9})$', res['pid'])):\n",
    "                                    #print(collections.OrderedDict(sorted(res.items())))\n",
    "                                    count += 1\n",
    "\n",
    "print('part 2:',count,'\\n')    \n",
    "    \n",
    "    \n",
    "#byr (Birth Year) - four digits; at least 1920 and at most 2002.\n",
    "#iyr (Issue Year) - four digits; at least 2010 and at most 2020.\n",
    "#eyr (Expiration Year) - four digits; at least 2020 and at most 2030.\n",
    "#hgt (Height) - a number followed by either cm or in:\n",
    "#If cm, the number must be at least 150 and at most 193.\n",
    "#If in, the number must be at least 59 and at most 76.\n",
    "#hcl (Hair Color) - a # followed by exactly six characters 0-9 or a-f.\n",
    "#ecl (Eye Color) - exactly one of: amb blu brn gry grn hzl oth.\n",
    "#pid (Passport ID) - a nine-digit number, including leading zeroes.\n",
    "#cid (Country ID) - ignored, missing or not.\n"
   ]
  }
 ],
 "metadata": {
  "julynter-results": {
   "filteredId": [],
   "filteredIndividual": [],
   "filteredRestart": [],
   "filteredType": [],
   "hash": "504a679e528da1c09ee4d11667e632037ba9ac2f",
   "visible": [
    {
     "cellId": "group",
     "hash": "f1533669aecd4af79dc6255a1e56c261582897f8",
     "reason": "This groups other lint messages",
     "reportId": "group",
     "reportType": "invalidtitle",
     "suggestion": null,
     "text": "Invalid Title"
    },
    {
     "cellId": "title",
     "hash": "c6bb7e8f3d69d451a23241e833786b67025ba86f",
     "reason": "Blank spaces on filenames are not safe to use on all operating systems, hampering the interoperability.",
     "reportId": "t4",
     "reportType": "invalidtitle",
     "suggestion": "Please consider replacing them to support all OS.",
     "text": "Title has blank spaces"
    },
    {
     "cellId": "group",
     "hash": "c0de46ba034d710c2b2406a37ee6816be9634aa0",
     "reason": "This groups other lint messages",
     "reportId": "group",
     "reportType": "hiddenstate",
     "suggestion": null,
     "text": "Hidden State"
    },
    {
     "cellId": 6,
     "hash": "6524632057f4e32d491579b0bdf66210cd213786",
     "reason": "A skip in the execution count might indicate the presence of a hidden state caused by a cell that does not exist anymore. Hidden states might prevent cells from executing or producing the same results, hampering the reproducibility.",
     "reportId": "h4",
     "reportType": "hiddenstate",
     "suggestion": "Please consider re-running the notebook to guarantee the reproducibility.",
     "text": "Cell 6 skips the execution count"
    },
    {
     "cellId": 9,
     "hash": "07ff18457c68cc2ae3f265e355fb657a0147cff1",
     "reason": "A skip in the execution count might indicate the presence of a hidden state caused by a cell that does not exist anymore. Hidden states might prevent cells from executing or producing the same results, hampering the reproducibility.",
     "reportId": "h4",
     "reportType": "hiddenstate",
     "suggestion": "Please consider re-running the notebook to guarantee the reproducibility.",
     "text": "Cell 9 skips the execution count"
    },
    {
     "cellId": "group",
     "hash": "19d3d3d153f22e318cbe061df9e685ba5165b0aa",
     "reason": "This groups other lint messages",
     "reportId": "group",
     "reportType": "confusenotebook",
     "suggestion": null,
     "text": "Confuse Notebook"
    },
    {
     "cellId": 2,
     "hash": "a4f10e913f3a075dd22469928758867d63fee0d2",
     "reason": "When you try to run all cells following the top-down order, non-executed cells might fail to execute or produce different results, hampering the reproducibility.",
     "reportId": "c1",
     "reportType": "confusenotebook",
     "suggestion": "Please consider cleaning it to guarantee the reproducibility.",
     "text": "Cell 2 is a non-executed cell among executed ones"
    },
    {
     "cellId": 4,
     "hash": "8f6d4c2a7e73032aa7824178cc5f3548540b35ac",
     "reason": "When you try to run all cells following the top-down order, non-executed cells might fail to execute or produce different results, hampering the reproducibility.",
     "reportId": "c1",
     "reportType": "confusenotebook",
     "suggestion": "Please consider cleaning it to guarantee the reproducibility.",
     "text": "Cell 4 is a non-executed cell among executed ones"
    },
    {
     "cellId": 9,
     "hash": "0f69697d74e56ce19ed5cb0438104d4456e82f59",
     "reason": "When you try to run all cells following the top-down order, cells in the wrong order might fail to execute or produce different results, hampering the reproducibility.",
     "reportId": "c2",
     "reportType": "confusenotebook",
     "suggestion": "Please consider re-running the notebook to guarantee the reproducibility.",
     "text": "Cell 9 has the execution count 9 in the wrong order"
    },
    {
     "cellId": 10,
     "hash": "dd54ca260c8012ad4695b687526b7a156d98fd07",
     "reason": "When you try to run all cells following the top-down order, cells in the wrong order might fail to execute or produce different results, hampering the reproducibility.",
     "reportId": "c2",
     "reportType": "confusenotebook",
     "suggestion": "Please consider re-running the notebook to guarantee the reproducibility.",
     "text": "Cell 10 has the execution count 1 in the wrong order"
    },
    {
     "cellId": 10,
     "hash": "242b917b125a1008836071d42e0cc5d14f839977",
     "reason": "A markdown cell at the end of the notebook can conclude it, presenting a summary of the obtained results.",
     "reportId": "c5",
     "reportType": "confusenotebook",
     "suggestion": "Please consider adding a markdown cell to conclude the notebook.",
     "text": "The last cell of the notebook is not a markdown cell"
    }
   ]
  },
  "kernelspec": {
   "display_name": "Python 3.7.3 64-bit",
   "language": "python",
   "name": "python37364bit8e956d63a4944edbbd7dd774a9a7043c"
  },
  "language_info": {
   "codemirror_mode": {
    "name": "ipython",
    "version": 3
   },
   "file_extension": ".py",
   "mimetype": "text/x-python",
   "name": "python",
   "nbconvert_exporter": "python",
   "pygments_lexer": "ipython3",
   "version": "3.8.2"
  }
 },
 "nbformat": 4,
 "nbformat_minor": 4
}
